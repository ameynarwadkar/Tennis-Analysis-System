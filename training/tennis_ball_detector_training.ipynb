{
 "cells": [
  {
   "cell_type": "code",
   "execution_count": null,
   "metadata": {},
   "outputs": [],
   "source": []
  },
  {
   "cell_type": "code",
   "execution_count": null,
   "metadata": {},
   "outputs": [],
   "source": [
    "!pip install roboflow\n",
    "!pip install ultralytics"
   ]
  },
  {
   "cell_type": "markdown",
   "metadata": {},
   "source": [
    "# Get Dataset"
   ]
  },
  {
   "cell_type": "code",
   "execution_count": 1,
   "metadata": {},
   "outputs": [
    {
     "name": "stdout",
     "output_type": "stream",
     "text": [
      "Requirement already satisfied: roboflow in /home/abdullah/python_virtual_env/cv_env/lib/python3.8/site-packages (1.1.21)\n",
      "Requirement already satisfied: certifi==2023.7.22 in /home/abdullah/python_virtual_env/cv_env/lib/python3.8/site-packages (from roboflow) (2023.7.22)\n",
      "Requirement already satisfied: chardet==4.0.0 in /home/abdullah/python_virtual_env/cv_env/lib/python3.8/site-packages (from roboflow) (4.0.0)\n",
      "Requirement already satisfied: cycler==0.10.0 in /home/abdullah/python_virtual_env/cv_env/lib/python3.8/site-packages (from roboflow) (0.10.0)\n",
      "Requirement already satisfied: idna==2.10 in /home/abdullah/python_virtual_env/cv_env/lib/python3.8/site-packages (from roboflow) (2.10)\n",
      "Requirement already satisfied: kiwisolver>=1.3.1 in /home/abdullah/python_virtual_env/cv_env/lib/python3.8/site-packages (from roboflow) (1.4.5)\n",
      "Requirement already satisfied: matplotlib in /home/abdullah/python_virtual_env/cv_env/lib/python3.8/site-packages (from roboflow) (3.7.5)\n",
      "Requirement already satisfied: numpy>=1.18.5 in /home/abdullah/python_virtual_env/cv_env/lib/python3.8/site-packages (from roboflow) (1.24.4)\n",
      "Requirement already satisfied: opencv-python-headless==4.8.0.74 in /home/abdullah/python_virtual_env/cv_env/lib/python3.8/site-packages (from roboflow) (4.8.0.74)\n",
      "Requirement already satisfied: Pillow>=7.1.2 in /home/abdullah/python_virtual_env/cv_env/lib/python3.8/site-packages (from roboflow) (10.2.0)\n",
      "Requirement already satisfied: python-dateutil in /home/abdullah/python_virtual_env/cv_env/lib/python3.8/site-packages (from roboflow) (2.8.2)\n",
      "Requirement already satisfied: python-dotenv in /home/abdullah/python_virtual_env/cv_env/lib/python3.8/site-packages (from roboflow) (1.0.1)\n",
      "Requirement already satisfied: requests in /home/abdullah/python_virtual_env/cv_env/lib/python3.8/site-packages (from roboflow) (2.31.0)\n",
      "Requirement already satisfied: six in /home/abdullah/python_virtual_env/cv_env/lib/python3.8/site-packages (from roboflow) (1.16.0)\n",
      "Requirement already satisfied: supervision in /home/abdullah/python_virtual_env/cv_env/lib/python3.8/site-packages (from roboflow) (0.18.0)\n",
      "Requirement already satisfied: urllib3>=1.26.6 in /home/abdullah/python_virtual_env/cv_env/lib/python3.8/site-packages (from roboflow) (1.26.18)\n",
      "Requirement already satisfied: tqdm>=4.41.0 in /home/abdullah/python_virtual_env/cv_env/lib/python3.8/site-packages (from roboflow) (4.66.2)\n",
      "Requirement already satisfied: PyYAML>=5.3.1 in /home/abdullah/python_virtual_env/cv_env/lib/python3.8/site-packages (from roboflow) (6.0.1)\n",
      "Requirement already satisfied: requests-toolbelt in /home/abdullah/python_virtual_env/cv_env/lib/python3.8/site-packages (from roboflow) (1.0.0)\n",
      "Requirement already satisfied: python-magic in /home/abdullah/python_virtual_env/cv_env/lib/python3.8/site-packages (from roboflow) (0.4.27)\n",
      "Requirement already satisfied: contourpy>=1.0.1 in /home/abdullah/python_virtual_env/cv_env/lib/python3.8/site-packages (from matplotlib->roboflow) (1.1.1)\n",
      "Requirement already satisfied: fonttools>=4.22.0 in /home/abdullah/python_virtual_env/cv_env/lib/python3.8/site-packages (from matplotlib->roboflow) (4.49.0)\n",
      "Requirement already satisfied: packaging>=20.0 in /home/abdullah/python_virtual_env/cv_env/lib/python3.8/site-packages (from matplotlib->roboflow) (23.2)\n",
      "Requirement already satisfied: pyparsing>=2.3.1 in /home/abdullah/python_virtual_env/cv_env/lib/python3.8/site-packages (from matplotlib->roboflow) (3.1.1)\n",
      "Requirement already satisfied: importlib-resources>=3.2.0 in /home/abdullah/python_virtual_env/cv_env/lib/python3.8/site-packages (from matplotlib->roboflow) (6.1.1)\n",
      "Requirement already satisfied: charset-normalizer<4,>=2 in /home/abdullah/python_virtual_env/cv_env/lib/python3.8/site-packages (from requests->roboflow) (3.3.2)\n",
      "Requirement already satisfied: defusedxml<0.8.0,>=0.7.1 in /home/abdullah/python_virtual_env/cv_env/lib/python3.8/site-packages (from supervision->roboflow) (0.7.1)\n",
      "Requirement already satisfied: scipy==1.10.0 in /home/abdullah/python_virtual_env/cv_env/lib/python3.8/site-packages (from supervision->roboflow) (1.10.0)\n",
      "Requirement already satisfied: zipp>=3.1.0 in /home/abdullah/python_virtual_env/cv_env/lib/python3.8/site-packages (from importlib-resources>=3.2.0->matplotlib->roboflow) (3.17.0)\n",
      "loading Roboflow workspace...\n",
      "loading Roboflow project...\n"
     ]
    },
    {
     "name": "stderr",
     "output_type": "stream",
     "text": [
      "Downloading Dataset Version Zip in tennis-ball-detection-6 to yolov5pytorch:: 100%|██████████| 52040/52040 [00:12<00:00, 4274.42it/s]"
     ]
    },
    {
     "name": "stdout",
     "output_type": "stream",
     "text": [
      "\n"
     ]
    },
    {
     "name": "stderr",
     "output_type": "stream",
     "text": [
      "\n",
      "Extracting Dataset Version Zip to tennis-ball-detection-6 in yolov5pytorch:: 100%|██████████| 1168/1168 [00:03<00:00, 326.61it/s]\n"
     ]
    }
   ],
   "source": [
    "!pip install roboflow\n",
    "\n",
    "from roboflow import Roboflow\n",
    "rf = Roboflow(api_key=\"3205MH29k2z3u5Ejc3HU\")\n",
    "project = rf.workspace(\"viren-dhanwani\").project(\"tennis-ball-detection\")\n",
    "version = project.version(6)\n",
    "dataset = version.download(\"yolov5\")\n"
   ]
  },
  {
   "cell_type": "code",
   "execution_count": null,
   "metadata": {},
   "outputs": [],
   "source": []
  },
  {
   "cell_type": "code",
   "execution_count": 2,
   "metadata": {},
   "outputs": [],
   "source": [
    "import shutil"
   ]
  },
  {
   "cell_type": "code",
   "execution_count": 3,
   "metadata": {},
   "outputs": [
    {
     "data": {
      "text/plain": [
       "'tennis-ball-detection-6/tennis-ball-detection-6/valid'"
      ]
     },
     "execution_count": 3,
     "metadata": {},
     "output_type": "execute_result"
    }
   ],
   "source": [
    "shutil.move(\"tennis-ball-detection-6/train\",\n",
    "\"tennis-ball-detection-6/tennis-ball-detection-6/train\",\n",
    ")\n",
    "shutil.move(\"tennis-ball-detection-6/test\",\n",
    "\"tennis-ball-detection-6/tennis-ball-detection-6/test\",\n",
    ")\n",
    "shutil.move(\"tennis-ball-detection-6/valid\",\n",
    "\"tennis-ball-detection-6/tennis-ball-detection-6/valid\",\n",
    ")"
   ]
  },
  {
   "cell_type": "code",
   "execution_count": null,
   "metadata": {},
   "outputs": [],
   "source": []
  },
  {
   "cell_type": "code",
   "execution_count": null,
   "metadata": {},
   "outputs": [],
   "source": [
    "!yolo task=detect mode=train model=yolov5l6u.pt data={dataset.location}/data.yaml epochs=100 imgsz=640"
   ]
  },
  {
   "cell_type": "code",
   "execution_count": null,
   "metadata": {},
   "outputs": [],
   "source": []
  },
  {
   "cell_type": "code",
   "execution_count": null,
   "metadata": {},
   "outputs": [],
   "source": []
  }
 ],
 "metadata": {
  "kernelspec": {
   "display_name": "cv_env",
   "language": "python",
   "name": "python3"
  },
  "language_info": {
   "codemirror_mode": {
    "name": "ipython",
    "version": 3
   },
   "file_extension": ".py",
   "mimetype": "text/x-python",
   "name": "python",
   "nbconvert_exporter": "python",
   "pygments_lexer": "ipython3",
   "version": "3.8.10"
  }
 },
 "nbformat": 4,
 "nbformat_minor": 2
}
